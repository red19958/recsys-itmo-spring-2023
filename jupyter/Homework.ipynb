{
 "cells": [
  {
   "cell_type": "code",
   "execution_count": 1,
   "metadata": {
    "collapsed": true
   },
   "outputs": [
    {
     "name": "stderr",
     "output_type": "stream",
     "text": [
      "C:\\Users\\asus\\PycharmProjects\\recsys\\venv\\lib\\site-packages\\lightfm\\_lightfm_fast.py:9: UserWarning: LightFM was compiled without OpenMP support. Only a single thread will be used.\n",
      "  warnings.warn(\n"
     ]
    }
   ],
   "source": [
    "import json\n",
    "import optuna\n",
    "import lightfm\n",
    "import numpy as np\n",
    "import pandas as pd\n",
    "import scipy.stats as ss\n",
    "import tensorboardX as tb\n",
    "import lightfm.data as ld\n",
    "import matplotlib.pyplot as pl\n",
    "import lightfm.evaluation as lv\n",
    "\n",
    "np.random.seed(31337)"
   ]
  },
  {
   "cell_type": "code",
   "execution_count": 2,
   "outputs": [],
   "source": [
    "DATA_DIR = \"../logs/\""
   ],
   "metadata": {
    "collapsed": false
   }
  },
  {
   "cell_type": "code",
   "execution_count": 3,
   "outputs": [
    {
     "data": {
      "text/plain": "       message               timestamp  user  track  time   latency  \\\n0         next 2023-04-07 20:41:54.968  1660   7772  1.00  0.001027   \n1         next 2023-04-07 20:41:54.976  1660   4988  0.04  0.000541   \n2         next 2023-04-07 20:41:54.984  1660   7295  0.00  0.000491   \n3         next 2023-04-07 20:41:54.992  1660   3711  1.00  0.001059   \n4         next 2023-04-07 20:41:55.001  1660   6707  0.89  0.001045   \n...        ...                     ...   ...    ...   ...       ...   \n815244    next 2022-06-13 11:39:37.527  2753  34339  0.00  0.000949   \n815246    next 2022-06-13 11:39:37.544  2753  17167  0.00  0.000912   \n815247    next 2022-06-13 11:39:37.552  2753   2802  0.00  0.000852   \n815251    next 2022-06-13 11:39:37.612  4013   4360  0.00  0.001012   \n815253    next 2022-06-13 11:39:37.629  4013   1924  0.01  0.000926   \n\n        recommendation                          experiments  \n0               4988.0                   {'CHECK_HW': 'T1'}  \n1               7295.0                   {'CHECK_HW': 'T1'}  \n2               3711.0                   {'CHECK_HW': 'T1'}  \n3               6707.0                   {'CHECK_HW': 'T1'}  \n4               3711.0                   {'CHECK_HW': 'T1'}  \n...                ...                                  ...  \n815244         19557.0   {'AA': 'C', 'COLLABORATIVE': 'T1'}  \n815246          2802.0   {'AA': 'C', 'COLLABORATIVE': 'T1'}  \n815247         16105.0   {'AA': 'C', 'COLLABORATIVE': 'T1'}  \n815251          2189.0  {'AA': 'T1', 'COLLABORATIVE': 'T1'}  \n815253         42099.0  {'AA': 'T1', 'COLLABORATIVE': 'T1'}  \n\n[1457636 rows x 8 columns]",
      "text/html": "<div>\n<style scoped>\n    .dataframe tbody tr th:only-of-type {\n        vertical-align: middle;\n    }\n\n    .dataframe tbody tr th {\n        vertical-align: top;\n    }\n\n    .dataframe thead th {\n        text-align: right;\n    }\n</style>\n<table border=\"1\" class=\"dataframe\">\n  <thead>\n    <tr style=\"text-align: right;\">\n      <th></th>\n      <th>message</th>\n      <th>timestamp</th>\n      <th>user</th>\n      <th>track</th>\n      <th>time</th>\n      <th>latency</th>\n      <th>recommendation</th>\n      <th>experiments</th>\n    </tr>\n  </thead>\n  <tbody>\n    <tr>\n      <th>0</th>\n      <td>next</td>\n      <td>2023-04-07 20:41:54.968</td>\n      <td>1660</td>\n      <td>7772</td>\n      <td>1.00</td>\n      <td>0.001027</td>\n      <td>4988.0</td>\n      <td>{'CHECK_HW': 'T1'}</td>\n    </tr>\n    <tr>\n      <th>1</th>\n      <td>next</td>\n      <td>2023-04-07 20:41:54.976</td>\n      <td>1660</td>\n      <td>4988</td>\n      <td>0.04</td>\n      <td>0.000541</td>\n      <td>7295.0</td>\n      <td>{'CHECK_HW': 'T1'}</td>\n    </tr>\n    <tr>\n      <th>2</th>\n      <td>next</td>\n      <td>2023-04-07 20:41:54.984</td>\n      <td>1660</td>\n      <td>7295</td>\n      <td>0.00</td>\n      <td>0.000491</td>\n      <td>3711.0</td>\n      <td>{'CHECK_HW': 'T1'}</td>\n    </tr>\n    <tr>\n      <th>3</th>\n      <td>next</td>\n      <td>2023-04-07 20:41:54.992</td>\n      <td>1660</td>\n      <td>3711</td>\n      <td>1.00</td>\n      <td>0.001059</td>\n      <td>6707.0</td>\n      <td>{'CHECK_HW': 'T1'}</td>\n    </tr>\n    <tr>\n      <th>4</th>\n      <td>next</td>\n      <td>2023-04-07 20:41:55.001</td>\n      <td>1660</td>\n      <td>6707</td>\n      <td>0.89</td>\n      <td>0.001045</td>\n      <td>3711.0</td>\n      <td>{'CHECK_HW': 'T1'}</td>\n    </tr>\n    <tr>\n      <th>...</th>\n      <td>...</td>\n      <td>...</td>\n      <td>...</td>\n      <td>...</td>\n      <td>...</td>\n      <td>...</td>\n      <td>...</td>\n      <td>...</td>\n    </tr>\n    <tr>\n      <th>815244</th>\n      <td>next</td>\n      <td>2022-06-13 11:39:37.527</td>\n      <td>2753</td>\n      <td>34339</td>\n      <td>0.00</td>\n      <td>0.000949</td>\n      <td>19557.0</td>\n      <td>{'AA': 'C', 'COLLABORATIVE': 'T1'}</td>\n    </tr>\n    <tr>\n      <th>815246</th>\n      <td>next</td>\n      <td>2022-06-13 11:39:37.544</td>\n      <td>2753</td>\n      <td>17167</td>\n      <td>0.00</td>\n      <td>0.000912</td>\n      <td>2802.0</td>\n      <td>{'AA': 'C', 'COLLABORATIVE': 'T1'}</td>\n    </tr>\n    <tr>\n      <th>815247</th>\n      <td>next</td>\n      <td>2022-06-13 11:39:37.552</td>\n      <td>2753</td>\n      <td>2802</td>\n      <td>0.00</td>\n      <td>0.000852</td>\n      <td>16105.0</td>\n      <td>{'AA': 'C', 'COLLABORATIVE': 'T1'}</td>\n    </tr>\n    <tr>\n      <th>815251</th>\n      <td>next</td>\n      <td>2022-06-13 11:39:37.612</td>\n      <td>4013</td>\n      <td>4360</td>\n      <td>0.00</td>\n      <td>0.001012</td>\n      <td>2189.0</td>\n      <td>{'AA': 'T1', 'COLLABORATIVE': 'T1'}</td>\n    </tr>\n    <tr>\n      <th>815253</th>\n      <td>next</td>\n      <td>2022-06-13 11:39:37.629</td>\n      <td>4013</td>\n      <td>1924</td>\n      <td>0.01</td>\n      <td>0.000926</td>\n      <td>42099.0</td>\n      <td>{'AA': 'T1', 'COLLABORATIVE': 'T1'}</td>\n    </tr>\n  </tbody>\n</table>\n<p>1457636 rows × 8 columns</p>\n</div>"
     },
     "execution_count": 3,
     "metadata": {},
     "output_type": "execute_result"
    }
   ],
   "source": [
    "data = pd.concat([\n",
    "    pd.read_json(DATA_DIR + \"the_biggest_data.json\", lines=True),\n",
    "    pd.read_json(DATA_DIR + \"big_data.json\", lines=True),\n",
    "    pd.read_json(DATA_DIR + \"input_hw.json\", lines=True),\n",
    "    pd.read_json(DATA_DIR + \"input_2.json\", lines=True),\n",
    "    pd.read_json(DATA_DIR + \"input_3.json\", lines=True),\n",
    "    pd.read_json(DATA_DIR + \"input_4.json\", lines=True),\n",
    "    pd.read_json(DATA_DIR + \"input_5.json\", lines=True),\n",
    "    pd.read_json(DATA_DIR + \"input_6.json\", lines=True)\n",
    "]).drop_duplicates(subset=[\"user\", \"track\"])\n",
    "data"
   ],
   "metadata": {
    "collapsed": false
   }
  },
  {
   "cell_type": "code",
   "execution_count": 4,
   "outputs": [
    {
     "data": {
      "text/plain": "       message               timestamp  user  track  time   latency  \\\n0         next 2023-04-07 20:41:54.968  1660   7772  1.00  0.001027   \n3         next 2023-04-07 20:41:54.992  1660   3711  1.00  0.001059   \n4         next 2023-04-07 20:41:55.001  1660   6707  0.89  0.001045   \n8         next 2023-04-07 20:41:55.044  8183   3590  1.00  0.000547   \n11        next 2023-04-07 20:41:55.067  8183    505  0.82  0.000588   \n...        ...                     ...   ...    ...   ...       ...   \n815149    next 2022-06-13 11:39:36.396  2368    443  1.00  0.000787   \n815190    next 2022-06-13 11:39:36.892  5317  10685  1.00  0.001123   \n815219    next 2022-06-13 11:39:37.228  3358     99  0.91  0.000835   \n815230    next 2022-06-13 11:39:37.354  8213  12490  0.94  0.000924   \n815231    next 2022-06-13 11:39:37.363  8213   4359  1.00  0.000805   \n\n        recommendation                         experiments   test  \n0               4988.0                  {'CHECK_HW': 'T1'}   True  \n3               6707.0                  {'CHECK_HW': 'T1'}   True  \n4               3711.0                  {'CHECK_HW': 'T1'}  False  \n8              13908.0                   {'CHECK_HW': 'C'}  False  \n11               199.0                   {'CHECK_HW': 'C'}  False  \n...                ...                                 ...    ...  \n815149          1508.0  {'AA': 'T1', 'COLLABORATIVE': 'C'}  False  \n815190            52.0  {'AA': 'T1', 'COLLABORATIVE': 'C'}  False  \n815219           221.0  {'AA': 'C', 'COLLABORATIVE': 'T1'}  False  \n815230          4359.0  {'AA': 'C', 'COLLABORATIVE': 'T1'}   True  \n815231          3509.0  {'AA': 'C', 'COLLABORATIVE': 'T1'}  False  \n\n[361588 rows x 9 columns]",
      "text/html": "<div>\n<style scoped>\n    .dataframe tbody tr th:only-of-type {\n        vertical-align: middle;\n    }\n\n    .dataframe tbody tr th {\n        vertical-align: top;\n    }\n\n    .dataframe thead th {\n        text-align: right;\n    }\n</style>\n<table border=\"1\" class=\"dataframe\">\n  <thead>\n    <tr style=\"text-align: right;\">\n      <th></th>\n      <th>message</th>\n      <th>timestamp</th>\n      <th>user</th>\n      <th>track</th>\n      <th>time</th>\n      <th>latency</th>\n      <th>recommendation</th>\n      <th>experiments</th>\n      <th>test</th>\n    </tr>\n  </thead>\n  <tbody>\n    <tr>\n      <th>0</th>\n      <td>next</td>\n      <td>2023-04-07 20:41:54.968</td>\n      <td>1660</td>\n      <td>7772</td>\n      <td>1.00</td>\n      <td>0.001027</td>\n      <td>4988.0</td>\n      <td>{'CHECK_HW': 'T1'}</td>\n      <td>True</td>\n    </tr>\n    <tr>\n      <th>3</th>\n      <td>next</td>\n      <td>2023-04-07 20:41:54.992</td>\n      <td>1660</td>\n      <td>3711</td>\n      <td>1.00</td>\n      <td>0.001059</td>\n      <td>6707.0</td>\n      <td>{'CHECK_HW': 'T1'}</td>\n      <td>True</td>\n    </tr>\n    <tr>\n      <th>4</th>\n      <td>next</td>\n      <td>2023-04-07 20:41:55.001</td>\n      <td>1660</td>\n      <td>6707</td>\n      <td>0.89</td>\n      <td>0.001045</td>\n      <td>3711.0</td>\n      <td>{'CHECK_HW': 'T1'}</td>\n      <td>False</td>\n    </tr>\n    <tr>\n      <th>8</th>\n      <td>next</td>\n      <td>2023-04-07 20:41:55.044</td>\n      <td>8183</td>\n      <td>3590</td>\n      <td>1.00</td>\n      <td>0.000547</td>\n      <td>13908.0</td>\n      <td>{'CHECK_HW': 'C'}</td>\n      <td>False</td>\n    </tr>\n    <tr>\n      <th>11</th>\n      <td>next</td>\n      <td>2023-04-07 20:41:55.067</td>\n      <td>8183</td>\n      <td>505</td>\n      <td>0.82</td>\n      <td>0.000588</td>\n      <td>199.0</td>\n      <td>{'CHECK_HW': 'C'}</td>\n      <td>False</td>\n    </tr>\n    <tr>\n      <th>...</th>\n      <td>...</td>\n      <td>...</td>\n      <td>...</td>\n      <td>...</td>\n      <td>...</td>\n      <td>...</td>\n      <td>...</td>\n      <td>...</td>\n      <td>...</td>\n    </tr>\n    <tr>\n      <th>815149</th>\n      <td>next</td>\n      <td>2022-06-13 11:39:36.396</td>\n      <td>2368</td>\n      <td>443</td>\n      <td>1.00</td>\n      <td>0.000787</td>\n      <td>1508.0</td>\n      <td>{'AA': 'T1', 'COLLABORATIVE': 'C'}</td>\n      <td>False</td>\n    </tr>\n    <tr>\n      <th>815190</th>\n      <td>next</td>\n      <td>2022-06-13 11:39:36.892</td>\n      <td>5317</td>\n      <td>10685</td>\n      <td>1.00</td>\n      <td>0.001123</td>\n      <td>52.0</td>\n      <td>{'AA': 'T1', 'COLLABORATIVE': 'C'}</td>\n      <td>False</td>\n    </tr>\n    <tr>\n      <th>815219</th>\n      <td>next</td>\n      <td>2022-06-13 11:39:37.228</td>\n      <td>3358</td>\n      <td>99</td>\n      <td>0.91</td>\n      <td>0.000835</td>\n      <td>221.0</td>\n      <td>{'AA': 'C', 'COLLABORATIVE': 'T1'}</td>\n      <td>False</td>\n    </tr>\n    <tr>\n      <th>815230</th>\n      <td>next</td>\n      <td>2022-06-13 11:39:37.354</td>\n      <td>8213</td>\n      <td>12490</td>\n      <td>0.94</td>\n      <td>0.000924</td>\n      <td>4359.0</td>\n      <td>{'AA': 'C', 'COLLABORATIVE': 'T1'}</td>\n      <td>True</td>\n    </tr>\n    <tr>\n      <th>815231</th>\n      <td>next</td>\n      <td>2022-06-13 11:39:37.363</td>\n      <td>8213</td>\n      <td>4359</td>\n      <td>1.00</td>\n      <td>0.000805</td>\n      <td>3509.0</td>\n      <td>{'AA': 'C', 'COLLABORATIVE': 'T1'}</td>\n      <td>False</td>\n    </tr>\n  </tbody>\n</table>\n<p>361588 rows × 9 columns</p>\n</div>"
     },
     "execution_count": 4,
     "metadata": {},
     "output_type": "execute_result"
    }
   ],
   "source": [
    "positives = data[data[\"time\"] > 0.8].copy()\n",
    "positives[\"test\"] = np.random.random(len(positives)) >= 0.7\n",
    "positives"
   ],
   "metadata": {
    "collapsed": false
   }
  },
  {
   "cell_type": "code",
   "execution_count": 5,
   "outputs": [
    {
     "data": {
      "text/plain": "user\n0        4\n1       18\n2       54\n3       14\n4       28\n        ..\n9995    59\n9996    33\n9997    50\n9998    29\n9999    14\nLength: 9997, dtype: int64"
     },
     "execution_count": 5,
     "metadata": {},
     "output_type": "execute_result"
    }
   ],
   "source": [
    "user_counts = positives[~positives[\"test\"]].groupby(\"user\").size()\n",
    "users = set(user_counts[user_counts >= 5].index.values)\n",
    "user_counts"
   ],
   "metadata": {
    "collapsed": false
   }
  },
  {
   "cell_type": "code",
   "execution_count": 6,
   "outputs": [
    {
     "data": {
      "text/plain": "track\n0         1\n1         1\n2         2\n3         1\n7        31\n         ..\n49990     4\n49993     1\n49994     3\n49996     2\n49999     1\nLength: 29454, dtype: int64"
     },
     "execution_count": 6,
     "metadata": {},
     "output_type": "execute_result"
    }
   ],
   "source": [
    "track_counts = positives[~positives[\"test\"]].groupby(\"track\").size()\n",
    "tracks = set(track_counts[track_counts >= 5].index.values)\n",
    "track_counts"
   ],
   "metadata": {
    "collapsed": false
   }
  },
  {
   "cell_type": "markdown",
   "source": [
    "## Train LightFM"
   ],
   "metadata": {
    "collapsed": false
   }
  },
  {
   "cell_type": "code",
   "execution_count": 7,
   "outputs": [
    {
     "data": {
      "text/plain": "(212419, 87544)"
     },
     "execution_count": 7,
     "metadata": {},
     "output_type": "execute_result"
    }
   ],
   "source": [
    "train_data = positives[~positives[\"test\"] & positives[\"user\"].isin(users) & positives[\"track\"].isin(tracks)]\n",
    "test_data = positives[positives[\"test\"] & positives[\"user\"].isin(users) & positives[\"track\"].isin(tracks)]\n",
    "\n",
    "len(train_data), len(test_data)"
   ],
   "metadata": {
    "collapsed": false
   }
  },
  {
   "cell_type": "code",
   "execution_count": 8,
   "outputs": [],
   "source": [
    "dataset = ld.Dataset()\n",
    "dataset.fit(users, tracks)"
   ],
   "metadata": {
    "collapsed": false
   }
  },
  {
   "cell_type": "code",
   "execution_count": 9,
   "outputs": [],
   "source": [
    "train_interactions, _ = dataset.build_interactions(train_data[[\"user\", \"track\"]].itertuples(index=False, name=None))\n",
    "test_interactions, _ = dataset.build_interactions(test_data[[\"user\", \"track\"]].itertuples(index=False, name=None))"
   ],
   "metadata": {
    "collapsed": false
   }
  },
  {
   "cell_type": "code",
   "execution_count": 10,
   "outputs": [],
   "source": [
    "def fit_model(\n",
    "        epochs=1,\n",
    "        at=10,\n",
    "        loss=\"warp\",\n",
    "        no_components=30,\n",
    "        learning_rate=0.01,\n",
    "        max_sampled=10,\n",
    "        user_alpha=0.0,\n",
    "        item_alpha=0.0,\n",
    "        threads=30,\n",
    "        verbose=False,\n",
    "        patience=3,\n",
    "        epsilon=1e-6,\n",
    "):\n",
    "    model = lightfm.LightFM(\n",
    "        no_components=no_components,\n",
    "        loss=loss,\n",
    "        learning_rate=learning_rate,\n",
    "        max_sampled=max_sampled,\n",
    "        user_alpha=user_alpha,\n",
    "        item_alpha=item_alpha,\n",
    "    )\n",
    "\n",
    "    precisions_at = []\n",
    "\n",
    "    for epoch in range(epochs):\n",
    "        model = model.fit_partial(train_interactions, num_threads=threads)\n",
    "        precision_at = lv.precision_at_k(model, test_interactions, train_interactions=train_interactions, k=at,\n",
    "                                         num_threads=threads)\n",
    "\n",
    "        if verbose:\n",
    "            print(f\"{epoch}:\\t{np.mean(precision_at)} +/- {ss.sem(precision_at) * 1.96}\")\n",
    "\n",
    "        precisions_at.append(np.mean(precision_at))\n",
    "\n",
    "        if epoch > patience and all(\n",
    "                [precisions_at[-j] - precisions_at[-patience - 1] < epsilon for j in range(1, patience + 1)]):\n",
    "            if verbose:\n",
    "                print(\"Early stopping!\")\n",
    "            break\n",
    "\n",
    "    else:\n",
    "        if verbose:\n",
    "            print(\"No early stopping happened: increase epochs maybe?\")\n",
    "\n",
    "    return model, precisions_at\n",
    "\n",
    "\n",
    "def objective(trial):\n",
    "    loss = trial.suggest_categorical(\"loss\", [\"warp\", \"bpr\"])\n",
    "    no_components = trial.suggest_categorical(\"no_components\", [10, 30, 50])\n",
    "    learning_rate = trial.suggest_categorical(\"learning_rate\", [0.0001, 0.001, 0.01])\n",
    "    max_sampled = trial.suggest_categorical(\"max_sampled\", [10, 20, 50, 100])\n",
    "    user_alpha = trial.suggest_categorical(\"user_alpha\", [0.0, 0.0001, 0.001])\n",
    "    item_alpha = trial.suggest_categorical(\"item_alpha\", [0.0, 0.0001, 0.001])\n",
    "\n",
    "    model_fit_model, precisions_at_fit_model = fit_model(\n",
    "        epochs=5,\n",
    "        at=10,\n",
    "        loss=loss,\n",
    "        no_components=no_components,\n",
    "        learning_rate=learning_rate,\n",
    "        max_sampled=max_sampled,\n",
    "        user_alpha=user_alpha,\n",
    "        item_alpha=item_alpha,\n",
    "    )\n",
    "\n",
    "    return precisions_at_fit_model[-1]"
   ],
   "metadata": {
    "collapsed": false
   }
  },
  {
   "cell_type": "code",
   "execution_count": 11,
   "outputs": [
    {
     "name": "stderr",
     "output_type": "stream",
     "text": [
      "\u001B[32m[I 2023-04-09 10:58:19,016]\u001B[0m A new study created in memory with name: no-name-cad6c7db-8cb6-41ac-9406-9d054b972dde\u001B[0m\n",
      "\u001B[32m[I 2023-04-09 10:59:08,895]\u001B[0m Trial 0 finished with value: 0.03317967429757118 and parameters: {'loss': 'warp', 'no_components': 50, 'learning_rate': 0.001, 'max_sampled': 100, 'user_alpha': 0.001, 'item_alpha': 0.0001}. Best is trial 0 with value: 0.03317967429757118.\u001B[0m\n",
      "\u001B[32m[I 2023-04-09 10:59:50,116]\u001B[0m Trial 1 finished with value: 0.0064215268939733505 and parameters: {'loss': 'bpr', 'no_components': 30, 'learning_rate': 0.0001, 'max_sampled': 50, 'user_alpha': 0.0001, 'item_alpha': 0.001}. Best is trial 0 with value: 0.03317967429757118.\u001B[0m\n",
      "\u001B[32m[I 2023-04-09 11:00:32,053]\u001B[0m Trial 2 finished with value: 0.030135078355669975 and parameters: {'loss': 'bpr', 'no_components': 30, 'learning_rate': 0.001, 'max_sampled': 10, 'user_alpha': 0.0001, 'item_alpha': 0.001}. Best is trial 0 with value: 0.03317967429757118.\u001B[0m\n",
      "\u001B[32m[I 2023-04-09 11:00:58,707]\u001B[0m Trial 3 finished with value: 0.028966553509235382 and parameters: {'loss': 'bpr', 'no_components': 10, 'learning_rate': 0.01, 'max_sampled': 20, 'user_alpha': 0.0, 'item_alpha': 0.0}. Best is trial 0 with value: 0.03317967429757118.\u001B[0m\n",
      "\u001B[32m[I 2023-04-09 11:01:35,072]\u001B[0m Trial 4 finished with value: 0.03212907537817955 and parameters: {'loss': 'warp', 'no_components': 30, 'learning_rate': 0.0001, 'max_sampled': 20, 'user_alpha': 0.0, 'item_alpha': 0.001}. Best is trial 0 with value: 0.03317967429757118.\u001B[0m\n",
      "\u001B[32m[I 2023-04-09 11:02:01,512]\u001B[0m Trial 5 finished with value: 0.001747427275404334 and parameters: {'loss': 'bpr', 'no_components': 10, 'learning_rate': 0.0001, 'max_sampled': 100, 'user_alpha': 0.001, 'item_alpha': 0.001}. Best is trial 0 with value: 0.03317967429757118.\u001B[0m\n",
      "\u001B[32m[I 2023-04-09 11:02:39,029]\u001B[0m Trial 6 finished with value: 0.03083190508186817 and parameters: {'loss': 'bpr', 'no_components': 30, 'learning_rate': 0.001, 'max_sampled': 10, 'user_alpha': 0.0001, 'item_alpha': 0.001}. Best is trial 0 with value: 0.03317967429757118.\u001B[0m\n",
      "\u001B[32m[I 2023-04-09 11:03:26,508]\u001B[0m Trial 7 finished with value: 0.03292238339781761 and parameters: {'loss': 'warp', 'no_components': 50, 'learning_rate': 0.001, 'max_sampled': 10, 'user_alpha': 0.001, 'item_alpha': 0.0001}. Best is trial 0 with value: 0.03317967429757118.\u001B[0m\n",
      "\u001B[32m[I 2023-04-09 11:04:03,346]\u001B[0m Trial 8 finished with value: 0.030210118740797043 and parameters: {'loss': 'bpr', 'no_components': 30, 'learning_rate': 0.01, 'max_sampled': 50, 'user_alpha': 0.001, 'item_alpha': 0.0}. Best is trial 0 with value: 0.03317967429757118.\u001B[0m\n",
      "\u001B[32m[I 2023-04-09 11:04:49,844]\u001B[0m Trial 9 finished with value: 0.03394082561135292 and parameters: {'loss': 'warp', 'no_components': 50, 'learning_rate': 0.01, 'max_sampled': 50, 'user_alpha': 0.0, 'item_alpha': 0.0001}. Best is trial 9 with value: 0.03394082561135292.\u001B[0m\n",
      "\u001B[32m[I 2023-04-09 11:05:36,249]\u001B[0m Trial 10 finished with value: 0.03736063838005066 and parameters: {'loss': 'warp', 'no_components': 50, 'learning_rate': 0.01, 'max_sampled': 50, 'user_alpha': 0.0, 'item_alpha': 0.0001}. Best is trial 10 with value: 0.03736063838005066.\u001B[0m\n",
      "\u001B[32m[I 2023-04-09 11:06:23,572]\u001B[0m Trial 11 finished with value: 0.034208834171295166 and parameters: {'loss': 'warp', 'no_components': 50, 'learning_rate': 0.01, 'max_sampled': 50, 'user_alpha': 0.0, 'item_alpha': 0.0001}. Best is trial 10 with value: 0.03736063838005066.\u001B[0m\n",
      "\u001B[32m[I 2023-04-09 11:07:10,652]\u001B[0m Trial 12 finished with value: 0.03320111334323883 and parameters: {'loss': 'warp', 'no_components': 50, 'learning_rate': 0.01, 'max_sampled': 50, 'user_alpha': 0.0, 'item_alpha': 0.0001}. Best is trial 10 with value: 0.03736063838005066.\u001B[0m\n",
      "\u001B[32m[I 2023-04-09 11:07:57,505]\u001B[0m Trial 13 finished with value: 0.03291166201233864 and parameters: {'loss': 'warp', 'no_components': 50, 'learning_rate': 0.01, 'max_sampled': 50, 'user_alpha': 0.0, 'item_alpha': 0.0001}. Best is trial 10 with value: 0.03736063838005066.\u001B[0m\n",
      "\u001B[32m[I 2023-04-09 11:08:44,812]\u001B[0m Trial 14 finished with value: 0.03561320900917053 and parameters: {'loss': 'warp', 'no_components': 50, 'learning_rate': 0.01, 'max_sampled': 50, 'user_alpha': 0.0, 'item_alpha': 0.0001}. Best is trial 10 with value: 0.03736063838005066.\u001B[0m\n",
      "\u001B[32m[I 2023-04-09 11:09:31,093]\u001B[0m Trial 15 finished with value: 0.037746574729681015 and parameters: {'loss': 'warp', 'no_components': 50, 'learning_rate': 0.01, 'max_sampled': 50, 'user_alpha': 0.0, 'item_alpha': 0.0001}. Best is trial 15 with value: 0.037746574729681015.\u001B[0m\n",
      "\u001B[32m[I 2023-04-09 11:10:17,526]\u001B[0m Trial 16 finished with value: 0.03588121756911278 and parameters: {'loss': 'warp', 'no_components': 50, 'learning_rate': 0.01, 'max_sampled': 50, 'user_alpha': 0.0, 'item_alpha': 0.0001}. Best is trial 15 with value: 0.037746574729681015.\u001B[0m\n",
      "\u001B[32m[I 2023-04-09 11:10:41,555]\u001B[0m Trial 17 finished with value: 0.03361921384930611 and parameters: {'loss': 'warp', 'no_components': 10, 'learning_rate': 0.01, 'max_sampled': 100, 'user_alpha': 0.0, 'item_alpha': 0.0}. Best is trial 15 with value: 0.037746574729681015.\u001B[0m\n",
      "\u001B[32m[I 2023-04-09 11:11:26,972]\u001B[0m Trial 18 finished with value: 0.034519728273153305 and parameters: {'loss': 'warp', 'no_components': 50, 'learning_rate': 0.01, 'max_sampled': 20, 'user_alpha': 0.0, 'item_alpha': 0.0001}. Best is trial 15 with value: 0.037746574729681015.\u001B[0m\n",
      "\u001B[32m[I 2023-04-09 11:12:13,263]\u001B[0m Trial 19 finished with value: 0.03250429034233093 and parameters: {'loss': 'warp', 'no_components': 50, 'learning_rate': 0.0001, 'max_sampled': 50, 'user_alpha': 0.0001, 'item_alpha': 0.0001}. Best is trial 15 with value: 0.037746574729681015.\u001B[0m\n",
      "\u001B[32m[I 2023-04-09 11:12:37,695]\u001B[0m Trial 20 finished with value: 0.0336620919406414 and parameters: {'loss': 'warp', 'no_components': 10, 'learning_rate': 0.01, 'max_sampled': 50, 'user_alpha': 0.0, 'item_alpha': 0.0}. Best is trial 15 with value: 0.037746574729681015.\u001B[0m\n",
      "\u001B[32m[I 2023-04-09 11:13:23,963]\u001B[0m Trial 21 finished with value: 0.03442324697971344 and parameters: {'loss': 'warp', 'no_components': 50, 'learning_rate': 0.01, 'max_sampled': 50, 'user_alpha': 0.0, 'item_alpha': 0.0001}. Best is trial 15 with value: 0.037746574729681015.\u001B[0m\n",
      "\u001B[32m[I 2023-04-09 11:14:10,216]\u001B[0m Trial 22 finished with value: 0.03343696519732475 and parameters: {'loss': 'warp', 'no_components': 50, 'learning_rate': 0.01, 'max_sampled': 50, 'user_alpha': 0.0, 'item_alpha': 0.0001}. Best is trial 15 with value: 0.037746574729681015.\u001B[0m\n",
      "\u001B[32m[I 2023-04-09 11:14:56,543]\u001B[0m Trial 23 finished with value: 0.03495926409959793 and parameters: {'loss': 'warp', 'no_components': 50, 'learning_rate': 0.01, 'max_sampled': 50, 'user_alpha': 0.0, 'item_alpha': 0.0001}. Best is trial 15 with value: 0.037746574729681015.\u001B[0m\n",
      "\u001B[32m[I 2023-04-09 11:15:42,896]\u001B[0m Trial 24 finished with value: 0.03399442881345749 and parameters: {'loss': 'warp', 'no_components': 50, 'learning_rate': 0.01, 'max_sampled': 50, 'user_alpha': 0.0, 'item_alpha': 0.0001}. Best is trial 15 with value: 0.037746574729681015.\u001B[0m\n",
      "\u001B[32m[I 2023-04-09 11:16:30,209]\u001B[0m Trial 25 finished with value: 0.035902660340070724 and parameters: {'loss': 'warp', 'no_components': 50, 'learning_rate': 0.01, 'max_sampled': 50, 'user_alpha': 0.0, 'item_alpha': 0.0001}. Best is trial 15 with value: 0.037746574729681015.\u001B[0m\n",
      "\u001B[32m[I 2023-04-09 11:17:17,660]\u001B[0m Trial 26 finished with value: 0.03453044593334198 and parameters: {'loss': 'warp', 'no_components': 50, 'learning_rate': 0.01, 'max_sampled': 20, 'user_alpha': 0.0, 'item_alpha': 0.0001}. Best is trial 15 with value: 0.037746574729681015.\u001B[0m\n",
      "\u001B[32m[I 2023-04-09 11:18:05,931]\u001B[0m Trial 27 finished with value: 0.034123070538043976 and parameters: {'loss': 'warp', 'no_components': 50, 'learning_rate': 0.01, 'max_sampled': 100, 'user_alpha': 0.0, 'item_alpha': 0.0001}. Best is trial 15 with value: 0.037746574729681015.\u001B[0m\n",
      "\u001B[32m[I 2023-04-09 11:18:30,241]\u001B[0m Trial 28 finished with value: 0.0328044630587101 and parameters: {'loss': 'warp', 'no_components': 10, 'learning_rate': 0.001, 'max_sampled': 10, 'user_alpha': 0.0001, 'item_alpha': 0.0001}. Best is trial 15 with value: 0.037746574729681015.\u001B[0m\n",
      "\u001B[32m[I 2023-04-09 11:19:16,856]\u001B[0m Trial 29 finished with value: 0.03289022296667099 and parameters: {'loss': 'warp', 'no_components': 50, 'learning_rate': 0.0001, 'max_sampled': 100, 'user_alpha': 0.001, 'item_alpha': 0.0}. Best is trial 15 with value: 0.037746574729681015.\u001B[0m\n",
      "\u001B[32m[I 2023-04-09 11:20:03,015]\u001B[0m Trial 30 finished with value: 0.032793737947940826 and parameters: {'loss': 'warp', 'no_components': 50, 'learning_rate': 0.001, 'max_sampled': 50, 'user_alpha': 0.001, 'item_alpha': 0.0001}. Best is trial 15 with value: 0.037746574729681015.\u001B[0m\n",
      "\u001B[32m[I 2023-04-09 11:20:48,859]\u001B[0m Trial 31 finished with value: 0.03575257211923599 and parameters: {'loss': 'warp', 'no_components': 50, 'learning_rate': 0.01, 'max_sampled': 50, 'user_alpha': 0.0, 'item_alpha': 0.0001}. Best is trial 15 with value: 0.037746574729681015.\u001B[0m\n",
      "\u001B[32m[I 2023-04-09 11:21:34,697]\u001B[0m Trial 32 finished with value: 0.032536450773477554 and parameters: {'loss': 'warp', 'no_components': 50, 'learning_rate': 0.01, 'max_sampled': 50, 'user_alpha': 0.0, 'item_alpha': 0.0001}. Best is trial 15 with value: 0.037746574729681015.\u001B[0m\n",
      "\u001B[32m[I 2023-04-09 11:22:20,843]\u001B[0m Trial 33 finished with value: 0.03620283305644989 and parameters: {'loss': 'warp', 'no_components': 50, 'learning_rate': 0.01, 'max_sampled': 50, 'user_alpha': 0.0, 'item_alpha': 0.0001}. Best is trial 15 with value: 0.037746574729681015.\u001B[0m\n",
      "\u001B[32m[I 2023-04-09 11:22:58,081]\u001B[0m Trial 34 finished with value: 0.019446827471256256 and parameters: {'loss': 'bpr', 'no_components': 30, 'learning_rate': 0.01, 'max_sampled': 50, 'user_alpha': 0.0, 'item_alpha': 0.001}. Best is trial 15 with value: 0.037746574729681015.\u001B[0m\n",
      "\u001B[32m[I 2023-04-09 11:23:44,930]\u001B[0m Trial 35 finished with value: 0.033051032572984695 and parameters: {'loss': 'warp', 'no_components': 50, 'learning_rate': 0.01, 'max_sampled': 50, 'user_alpha': 0.0001, 'item_alpha': 0.0001}. Best is trial 15 with value: 0.037746574729681015.\u001B[0m\n",
      "\u001B[32m[I 2023-04-09 11:24:34,587]\u001B[0m Trial 36 finished with value: 0.020969126373529434 and parameters: {'loss': 'bpr', 'no_components': 50, 'learning_rate': 0.0001, 'max_sampled': 20, 'user_alpha': 0.0, 'item_alpha': 0.001}. Best is trial 15 with value: 0.037746574729681015.\u001B[0m\n",
      "\u001B[32m[I 2023-04-09 11:25:10,082]\u001B[0m Trial 37 finished with value: 0.03373713791370392 and parameters: {'loss': 'warp', 'no_components': 30, 'learning_rate': 0.01, 'max_sampled': 10, 'user_alpha': 0.0, 'item_alpha': 0.0001}. Best is trial 15 with value: 0.037746574729681015.\u001B[0m\n",
      "\u001B[32m[I 2023-04-09 11:25:36,242]\u001B[0m Trial 38 finished with value: 0.019489707425236702 and parameters: {'loss': 'bpr', 'no_components': 10, 'learning_rate': 0.001, 'max_sampled': 50, 'user_alpha': 0.0001, 'item_alpha': 0.0001}. Best is trial 15 with value: 0.037746574729681015.\u001B[0m\n",
      "\u001B[32m[I 2023-04-09 11:26:23,036]\u001B[0m Trial 39 finished with value: 0.032761577516794205 and parameters: {'loss': 'warp', 'no_components': 50, 'learning_rate': 0.0001, 'max_sampled': 100, 'user_alpha': 0.001, 'item_alpha': 0.001}. Best is trial 15 with value: 0.037746574729681015.\u001B[0m\n",
      "\u001B[32m[I 2023-04-09 11:26:59,983]\u001B[0m Trial 40 finished with value: 0.028837908059358597 and parameters: {'loss': 'bpr', 'no_components': 30, 'learning_rate': 0.01, 'max_sampled': 10, 'user_alpha': 0.0, 'item_alpha': 0.0}. Best is trial 15 with value: 0.037746574729681015.\u001B[0m\n",
      "\u001B[32m[I 2023-04-09 11:27:47,116]\u001B[0m Trial 41 finished with value: 0.03451972454786301 and parameters: {'loss': 'warp', 'no_components': 50, 'learning_rate': 0.01, 'max_sampled': 50, 'user_alpha': 0.0, 'item_alpha': 0.0001}. Best is trial 15 with value: 0.037746574729681015.\u001B[0m\n",
      "\u001B[32m[I 2023-04-09 11:28:33,621]\u001B[0m Trial 42 finished with value: 0.033865779638290405 and parameters: {'loss': 'warp', 'no_components': 50, 'learning_rate': 0.01, 'max_sampled': 50, 'user_alpha': 0.0, 'item_alpha': 0.0001}. Best is trial 15 with value: 0.037746574729681015.\u001B[0m\n",
      "\u001B[32m[I 2023-04-09 11:29:20,881]\u001B[0m Trial 43 finished with value: 0.03509863093495369 and parameters: {'loss': 'warp', 'no_components': 50, 'learning_rate': 0.01, 'max_sampled': 50, 'user_alpha': 0.0, 'item_alpha': 0.0001}. Best is trial 15 with value: 0.037746574729681015.\u001B[0m\n",
      "\u001B[32m[I 2023-04-09 11:30:08,194]\u001B[0m Trial 44 finished with value: 0.034123070538043976 and parameters: {'loss': 'warp', 'no_components': 50, 'learning_rate': 0.01, 'max_sampled': 50, 'user_alpha': 0.0, 'item_alpha': 0.0001}. Best is trial 15 with value: 0.037746574729681015.\u001B[0m\n",
      "\u001B[32m[I 2023-04-09 11:30:55,793]\u001B[0m Trial 45 finished with value: 0.036127787083387375 and parameters: {'loss': 'warp', 'no_components': 50, 'learning_rate': 0.01, 'max_sampled': 50, 'user_alpha': 0.0, 'item_alpha': 0.0001}. Best is trial 15 with value: 0.037746574729681015.\u001B[0m\n",
      "\u001B[32m[I 2023-04-09 11:31:45,760]\u001B[0m Trial 46 finished with value: 0.03296526521444321 and parameters: {'loss': 'warp', 'no_components': 50, 'learning_rate': 0.001, 'max_sampled': 50, 'user_alpha': 0.0, 'item_alpha': 0.0001}. Best is trial 15 with value: 0.037746574729681015.\u001B[0m\n",
      "\u001B[32m[I 2023-04-09 11:32:32,790]\u001B[0m Trial 47 finished with value: 0.033211834728717804 and parameters: {'loss': 'warp', 'no_components': 50, 'learning_rate': 0.01, 'max_sampled': 20, 'user_alpha': 0.0, 'item_alpha': 0.001}. Best is trial 15 with value: 0.037746574729681015.\u001B[0m\n",
      "\u001B[32m[I 2023-04-09 11:33:09,702]\u001B[0m Trial 48 finished with value: 0.030789023265242577 and parameters: {'loss': 'bpr', 'no_components': 30, 'learning_rate': 0.01, 'max_sampled': 50, 'user_alpha': 0.001, 'item_alpha': 0.0001}. Best is trial 15 with value: 0.037746574729681015.\u001B[0m\n",
      "\u001B[32m[I 2023-04-09 11:33:33,712]\u001B[0m Trial 49 finished with value: 0.03328688070178032 and parameters: {'loss': 'warp', 'no_components': 10, 'learning_rate': 0.01, 'max_sampled': 50, 'user_alpha': 0.0, 'item_alpha': 0.0001}. Best is trial 15 with value: 0.037746574729681015.\u001B[0m\n"
     ]
    }
   ],
   "source": [
    "study = optuna.create_study(direction=\"maximize\")\n",
    "study.optimize(objective, n_trials=50)\n",
    "best_params = study.best_params"
   ],
   "metadata": {
    "collapsed": false
   }
  },
  {
   "cell_type": "code",
   "execution_count": 12,
   "outputs": [
    {
     "name": "stdout",
     "output_type": "stream",
     "text": [
      "0:\t0.03292238712310791 +/- 0.0015461373352749534\n",
      "1:\t0.033243998885154724 +/- 0.0015612212029399567\n",
      "2:\t0.03369425609707832 +/- 0.0015665696021231463\n",
      "3:\t0.034294597804546356 +/- 0.0015886700590651431\n",
      "4:\t0.035934820771217346 +/- 0.001633555304351707\n",
      "5:\t0.036781735718250275 +/- 0.0016680006401479344\n",
      "6:\t0.0372212715446949 +/- 0.0016815334977538202\n",
      "7:\t0.038336191326379776 +/- 0.001716799698593033\n",
      "8:\t0.03890437260270119 +/- 0.0017425907974275036\n",
      "9:\t0.039922814816236496 +/- 0.0017762343193863845\n",
      "10:\t0.04162735864520073 +/- 0.001833160682637262\n",
      "11:\t0.042613640427589417 +/- 0.0018585766541606903\n",
      "12:\t0.04373927786946297 +/- 0.0018969445727180486\n",
      "13:\t0.04447899013757706 +/- 0.0019127222973884417\n",
      "14:\t0.04586191847920418 +/- 0.0019617791519098513\n",
      "15:\t0.04673027619719505 +/- 0.001993705343760382\n",
      "16:\t0.047898802906274796 +/- 0.0020176856708588424\n",
      "17:\t0.04796312376856804 +/- 0.002016180474413287\n",
      "18:\t0.048852916806936264 +/- 0.0020384660002100664\n",
      "19:\t0.0494103766977787 +/- 0.0020439716474398026\n",
      "20:\t0.04948542267084122 +/- 0.0020569006120669292\n",
      "21:\t0.049989283084869385 +/- 0.002077007496418805\n",
      "22:\t0.05038593336939812 +/- 0.0020729495896176166\n",
      "23:\t0.05099700018763542 +/- 0.0020906824820667628\n",
      "24:\t0.050975557416677475 +/- 0.0020864584064163865\n",
      "25:\t0.05132933333516121 +/- 0.0020973541840416656\n",
      "26:\t0.05147941783070564 +/- 0.0021000478128390117\n",
      "27:\t0.051865354180336 +/- 0.0021256272316108227\n",
      "28:\t0.05198327824473381 +/- 0.0021195503506119934\n",
      "29:\t0.052304886281490326 +/- 0.0021250339226351962\n",
      "30:\t0.052530016750097275 +/- 0.002124720787342504\n",
      "31:\t0.05269082263112068 +/- 0.0021331432346356483\n",
      "32:\t0.05281946808099747 +/- 0.0021345233886441903\n",
      "33:\t0.05320540443062782 +/- 0.002146881724302404\n",
      "34:\t0.05350557714700699 +/- 0.0021497714595577998\n",
      "35:\t0.05348413810133934 +/- 0.002146702854649456\n",
      "36:\t0.05367710068821907 +/- 0.002149859004383714\n",
      "37:\t0.053773581981658936 +/- 0.002146912720311579\n",
      "38:\t0.05419168248772621 +/- 0.0021597178521020497\n",
      "39:\t0.05437392741441727 +/- 0.0021634502252068765\n",
      "40:\t0.05453473702073097 +/- 0.0021706493129378915\n",
      "41:\t0.05481346696615219 +/- 0.002174670326928159\n",
      "42:\t0.05467410013079643 +/- 0.0021621709216281875\n",
      "43:\t0.05521012097597122 +/- 0.0021746998109368866\n",
      "44:\t0.05552101507782936 +/- 0.002183300674282844\n",
      "45:\t0.05552101507782936 +/- 0.002183705134402569\n",
      "46:\t0.05559605732560158 +/- 0.002185243443657927\n",
      "47:\t0.05590694770216942 +/- 0.0021834913375392826\n",
      "48:\t0.05589623004198074 +/- 0.0021768196355643797\n",
      "49:\t0.056046318262815475 +/- 0.0021891912768265322\n",
      "50:\t0.056185681372880936 +/- 0.0021906441580566024\n",
      "51:\t0.05608919635415077 +/- 0.002185508497336386\n",
      "52:\t0.05636793002486229 +/- 0.0021912351990315574\n",
      "53:\t0.05643225088715553 +/- 0.0021873256194742756\n",
      "54:\t0.05616423860192299 +/- 0.0021801625173539126\n",
      "55:\t0.056635938584804535 +/- 0.002190302748355541\n",
      "56:\t0.056603774428367615 +/- 0.0021852972708738603\n",
      "57:\t0.05690395087003708 +/- 0.0021966050686211026\n",
      "58:\t0.05732204392552376 +/- 0.0022010683427422842\n",
      "59:\t0.05736492574214935 +/- 0.002200808883465481\n",
      "60:\t0.057482849806547165 +/- 0.002195421777070834\n",
      "61:\t0.0580403096973896 +/- 0.0022104475839186508\n",
      "62:\t0.05785806477069855 +/- 0.0022073194061926734\n",
      "63:\t0.05785806477069855 +/- 0.0022033150242073284\n",
      "64:\t0.058018870651721954 +/- 0.002204078433233307\n",
      "Early stopping!\n"
     ]
    }
   ],
   "source": [
    "model_given, precisions_at_given = fit_model(\n",
    "    epochs=400,\n",
    "    at=10,\n",
    "    loss=best_params[\"loss\"],\n",
    "    no_components=best_params[\"no_components\"],\n",
    "    learning_rate=best_params[\"learning_rate\"],\n",
    "    max_sampled=best_params[\"max_sampled\"],\n",
    "    user_alpha=best_params[\"user_alpha\"],\n",
    "    item_alpha=best_params[\"item_alpha\"],\n",
    "    verbose=True,\n",
    ")"
   ],
   "metadata": {
    "collapsed": false
   }
  },
  {
   "cell_type": "code",
   "execution_count": 13,
   "outputs": [
    {
     "data": {
      "text/plain": "<Figure size 640x480 with 1 Axes>",
      "image/png": "[encoded data removed]"
     },
     "metadata": {},
     "output_type": "display_data"
    }
   ],
   "source": [
    "figure, ax = pl.subplots()\n",
    "\n",
    "ax.plot(np.arange(len(precisions_at_given)), precisions_at_given)\n",
    "\n",
    "pass"
   ],
   "metadata": {
    "collapsed": false
   }
  },
  {
   "cell_type": "markdown",
   "source": [
    "## Save track embeddings"
   ],
   "metadata": {
    "collapsed": false
   }
  },
  {
   "cell_type": "code",
   "execution_count": 14,
   "outputs": [],
   "source": [
    "biases, embeddings = model_given.get_item_representations()"
   ],
   "metadata": {
    "collapsed": false
   }
  },
  {
   "cell_type": "code",
   "execution_count": 15,
   "outputs": [],
   "source": [
    "model_given.item_biases *= 0.0"
   ],
   "metadata": {
    "collapsed": false
   }
  },
  {
   "cell_type": "code",
   "execution_count": 16,
   "outputs": [],
   "source": [
    "TRACK_DATA_DIR = \"../botify/data/\"\n",
    "track_meta = pd.read_json(TRACK_DATA_DIR + \"tracks.json\", lines=True)\n",
    "track_meta[\"dataset_index\"] = track_meta[\"track\"].map(lambda t: dataset.mapping()[2].get(t))"
   ],
   "metadata": {
    "collapsed": false
   }
  },
  {
   "cell_type": "code",
   "execution_count": 17,
   "outputs": [],
   "source": [
    "dataset_tracks = track_meta[pd.notnull(track_meta[\"dataset_index\"])].sort_values(\"dataset_index\")"
   ],
   "metadata": {
    "collapsed": false
   }
  },
  {
   "cell_type": "code",
   "execution_count": 18,
   "outputs": [
    {
     "name": "stdout",
     "output_type": "stream",
     "text": [
      "warning: Embedding dir exists, did you set global_step for add_embedding()?\n"
     ]
    }
   ],
   "source": [
    "writer = tb.SummaryWriter(comment='msd_ligtfm_embeddings', log_dir=DATA_DIR + \"tb\")\n",
    "writer.add_embedding(embeddings, metadata=list(dataset_tracks[[\"artist\", \"title\"]].itertuples(index=False, name=None)),\n",
    "                     tag=\"lightfm\", metadata_header=[\"artist\", \"title\"])\n",
    "writer.close()"
   ],
   "metadata": {
    "collapsed": false
   }
  },
  {
   "cell_type": "markdown",
   "source": [
    "## Compute top recommendations"
   ],
   "metadata": {
    "collapsed": false
   }
  },
  {
   "cell_type": "code",
   "execution_count": 19,
   "outputs": [],
   "source": [
    "k = 50\n",
    "\n",
    "with open(TRACK_DATA_DIR + f\"recommendations_by_artist_neighbours_{k}.json\", \"w\") as rf:\n",
    "    artists_tracks = dict()\n",
    "\n",
    "    for artist in dataset_tracks.artist:\n",
    "        if artist not in artists_tracks.items():\n",
    "            artists_tracks[artist] = list(dataset_tracks[dataset_tracks[\"artist\"] == artist].track)\n",
    "\n",
    "    for artist in artists_tracks:\n",
    "        recommendations = []\n",
    "        neighbours = []\n",
    "        embeddings_of_artist = list(\n",
    "            embeddings[int(dataset_tracks[dataset_tracks[\"track\"] == int(j)].dataset_index)] for j in\n",
    "            artists_tracks[artist])\n",
    "\n",
    "        for i in range(len(dataset_tracks)):\n",
    "            if dataset_tracks.iloc[i].artist != artist:\n",
    "                embedding = embeddings[int(dataset_tracks.iloc[i].dataset_index)]\n",
    "                dist = sum(-np.dot(embeddings_of_artist, embedding))\n",
    "                neighbours.append(dist)\n",
    "\n",
    "        neighbours = np.argsort(neighbours)\n",
    "\n",
    "        for neighbour in neighbours:\n",
    "            if len(recommendations) == k:\n",
    "                break\n",
    "\n",
    "            recommended_track = dataset_tracks[dataset_tracks[\"dataset_index\"] == neighbour].iloc[0]\n",
    "            recommendation = int(recommended_track[\"track\"])\n",
    "            recommendations.append(recommendation)\n",
    "\n",
    "        track_with_recommendations = dict()\n",
    "        track_with_recommendations[\"artist\"] = artist\n",
    "        track_with_recommendations[\"recommendations\"] = recommendations\n",
    "\n",
    "        rf.write(json.dumps(track_with_recommendations) + \"\\n\")"
   ],
   "metadata": {
    "collapsed": false
   }
  },
  {
   "cell_type": "code",
   "execution_count": 22,
   "outputs": [],
   "source": [
    "with open(TRACK_DATA_DIR + f\"personal_top_{k}.json\", \"w\") as rf:\n",
    "    for user in range(max(data.user)):\n",
    "        user_data = data[(data[\"user\"] == user) & (data[\"time\"] > 0.5)].copy()\n",
    "\n",
    "        track_popularity = (\n",
    "            user_data\n",
    "            .groupby(\"track\")[\"time\"]\n",
    "            .sum()\n",
    "            .to_frame()\n",
    "            .sort_values(\"time\", ascending=False)\n",
    "            .reset_index()\n",
    "        )\n",
    "\n",
    "        recommendations = track_popularity[\"track\"].head(k).tolist()\n",
    "\n",
    "        track_with_recommendations = dict()\n",
    "        track_with_recommendations[\"user\"] = user\n",
    "        track_with_recommendations[\"tracks\"] = recommendations\n",
    "\n",
    "        rf.write(json.dumps(track_with_recommendations) + \"\\n\")"
   ],
   "metadata": {
    "collapsed": false
   }
  },
  {
   "cell_type": "code",
   "execution_count": 23,
   "outputs": [],
   "source": [
    "with open(TRACK_DATA_DIR + f\"controlled_personal_top_{k}.json\", \"w\") as rf:\n",
    "    control = pd.read_json(DATA_DIR + \"control.json\", lines=True)\n",
    "    personal_top = pd.read_json(TRACK_DATA_DIR + f\"personal_top_{k}.json\", lines=True)\n",
    "    i = 0\n",
    "\n",
    "    for tracks in personal_top.tracks:\n",
    "        control_tracks = []\n",
    "        for track in tracks:\n",
    "            if not control[(control[\"user\"] == i) & (control[\"time\"] < 0.5)].copy().empty:\n",
    "                lst = control[(control[\"user\"] == i) & (control[\"time\"] < 0.5)].copy().track.array\n",
    "\n",
    "                if track in lst:\n",
    "                    continue\n",
    "\n",
    "            control_tracks += [track]\n",
    "\n",
    "        controlled_tracks_with_recommendations = dict()\n",
    "        controlled_tracks_with_recommendations[\"user\"] = i\n",
    "        controlled_tracks_with_recommendations[\"tracks\"] = control_tracks\n",
    "        rf.write(json.dumps(controlled_tracks_with_recommendations) + \"\\n\")\n",
    "        i += 1"
   ],
   "metadata": {
    "collapsed": false
   }
  },
  {
   "cell_type": "code",
   "execution_count": 23,
   "outputs": [],
   "source": [],
   "metadata": {
    "collapsed": false
   }
  }
 ],
 "metadata": {
  "kernelspec": {
   "display_name": "Python 3",
   "language": "python",
   "name": "python3"
  },
  "language_info": {
   "codemirror_mode": {
    "name": "ipython",
    "version": 2
   },
   "file_extension": ".py",
   "mimetype": "text/x-python",
   "name": "python",
   "nbconvert_exporter": "python",
   "pygments_lexer": "ipython2",
   "version": "2.7.6"
  }
 },
 "nbformat": 4,
 "nbformat_minor": 0
}
